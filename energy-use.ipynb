{
 "cells": [
  {
   "cell_type": "code",
   "execution_count": null,
   "metadata": {},
   "outputs": [],
   "source": [
    "%matplotlib notebook\n",
    "%precision 3\n",
    "\n",
    "from pandas.plotting import register_matplotlib_converters\n",
    "register_matplotlib_converters()\n",
    "\n",
    "import matplotlib\n",
    "import matplotlib.pyplot as plt\n",
    "plt.rcParams['figure.figsize'] = [9.5, 7]\n",
    "import datetime\n",
    "import pandas\n",
    "from matplotlib.ticker import (MultipleLocator, FormatStrFormatter,\n",
    "                               AutoMinorLocator, LogLocator, FixedLocator, FixedFormatter, NullLocator)\n",
    "from matplotlib.dates import DateFormatter\n",
    "\n",
    "\n"
   ]
  },
  {
   "cell_type": "code",
   "execution_count": null,
   "metadata": {},
   "outputs": [],
   "source": [
    "prefix=\"/home/ahu/git/gazproject/\""
   ]
  },
  {
   "cell_type": "code",
   "execution_count": null,
   "metadata": {},
   "outputs": [],
   "source": [
    "nleng=pandas.read_csv(prefix+\"nluse.csv\")\n",
    "nleng[[\"begin\", \"end\"]] = nleng['MTU'].str.split(' - ', 1, expand=True)\n",
    "nleng[\"timestamp\"]=pandas.to_datetime(nleng[\"begin\"], format=\"%d.%m.%Y %H:%M\", utc=True)\n",
    "nleng.sort_values([\"timestamp\"], inplace=True)\n",
    "nleng.set_index(\"timestamp\", inplace=True)\n",
    "nleng=nleng[nleng[\"Fossil Gas  - Actual Aggregated [MW]\"] != \"-\"]\n",
    "nleng[\"gaspower\"]=pandas.to_numeric(nleng[\"Fossil Gas  - Actual Aggregated [MW]\"])\n",
    "nleng[\"coalpower\"]=pandas.to_numeric(nleng[\"Fossil Hard coal  - Actual Aggregated [MW]\"])\n",
    "nleng[\"windpower\"]=pandas.to_numeric(nleng[\"Wind Offshore  - Actual Aggregated [MW]\"]) + pandas.to_numeric(nleng[\"Wind Onshore  - Actual Aggregated [MW]\"])\n",
    "nleng[\"nukepower\"]=pandas.to_numeric(nleng[\"Nuclear  - Actual Aggregated [MW]\"])\n",
    "nleng[\"wastepower\"]=pandas.to_numeric(nleng[\"Waste  - Actual Aggregated [MW]\"])\n",
    "nleng[\"otherpower\"]=pandas.to_numeric(nleng[\"Other  - Actual Aggregated [MW]\"])\n",
    "nleng.tail(4)"
   ]
  },
  {
   "cell_type": "code",
   "execution_count": null,
   "metadata": {
    "scrolled": false
   },
   "outputs": [],
   "source": [
    "def addATransport(df, fname):\n",
    "    nltransp=pandas.read_csv(prefix+fname)\n",
    "    print(nltransp.columns[1])\n",
    "    nltransp[[\"begin\", \"end\"]] = nltransp['Time (UTC)'].str.split(' - ', 1, expand=True)\n",
    "    nltransp[\"timestamp\"]=pandas.to_datetime(nltransp[\"begin\"], format=\"%d.%m.%Y %H:%M\", utc=True)\n",
    "    nltransp.sort_values([\"timestamp\"], inplace=True)\n",
    "    nltransp.set_index(\"timestamp\", inplace=True)\n",
    "\n",
    "    nltransp=nltransp[nltransp[nltransp.columns[1]] != \"-\"] # filter out empty lines\n",
    "    nltransp=nltransp[nltransp[nltransp.columns[2]] != \"-\"] # filter out empty lines\n",
    "    \n",
    "    nltransp[nltransp.columns[1]]=pandas.to_numeric(nltransp[nltransp.columns[1]])\n",
    "    nltransp[nltransp.columns[2]]=pandas.to_numeric(nltransp[nltransp.columns[2]])\n",
    "    nltransp=nltransp.drop(\"begin\", axis=1)\n",
    "    nltransp=nltransp.drop(\"end\", axis=1)\n",
    "    nltransp=nltransp.drop(\"Time (UTC)\", axis=1)\n",
    "    \n",
    "    plt.figure()\n",
    "    plt.title(fname)\n",
    "    plt.plot(nltransp[nltransp.columns[0]] - nltransp[nltransp.columns[1]])\n",
    "    nltransp=nltransp.resample(\"15T\").interpolate(\"time\")\n",
    "    plt.plot(nltransp[nltransp.columns[0]] - nltransp[nltransp.columns[1]], '-+')\n",
    "\n",
    "    if(len(df)==0):\n",
    "        print(\"Copying!\")\n",
    "        df=nltransp\n",
    "    else:\n",
    "        df=df.join(nltransp)\n",
    "    print(len(df))\n",
    "    return df\n",
    "\n",
    "transp=pandas.DataFrame()\n",
    "transp=addATransport(transp, \"nlbe.csv\")\n",
    "transp=addATransport(transp, \"nldk.csv\")\n",
    "transp=addATransport(transp, \"nldelu.csv\")\n",
    "transp=addATransport(transp, \"nlgb.csv\")\n",
    "transp=addATransport(transp, \"nlno2.csv\")\n",
    "importpower=(transp[\"BZN|BE > BZN|NL [MW]\"] + transp[\"BZN|DE-LU > BZN|NL [MW]\"] + transp[\"BZN|DK1 > BZN|NL [MW]\"] + transp[\"BZN|GB > BZN|NL [MW]\"] + transp[\"BZN|NO2 > BZN|NL [MW]\"]) -          (transp[\"BZN|NL > BZN|BE [MW]\"] + transp[\"BZN|NL > BZN|DE-LU [MW]\"] + transp[\"BZN|NL > BZN|DK1 [MW]\"] + transp[\"BZN|NL > BZN|GB [MW]\"] + transp[\"BZN|NL > BZN|NO2 [MW]\"])\n",
    "transp\n"
   ]
  },
  {
   "cell_type": "code",
   "execution_count": null,
   "metadata": {},
   "outputs": [],
   "source": [
    "#print(transp.tail(10))\n",
    "plt.figure()\n",
    "plt.plot(transp[\"BZN|BE > BZN|NL [MW]\"] - transp[\"BZN|NL > BZN|BE [MW]\"], label=\"BE\", alpha=0.4)\n",
    "plt.plot(transp[\"BZN|DE-LU > BZN|NL [MW]\"] - transp[\"BZN|NL > BZN|DE-LU [MW]\"], label=\"DE-LU\", alpha=0.4)\n",
    "plt.plot(transp[\"BZN|DK1 > BZN|NL [MW]\"] - transp[\"BZN|NL > BZN|DK1 [MW]\"], label=\"DK1\", alpha=0.4)\n",
    "plt.plot(transp[\"BZN|GB > BZN|NL [MW]\"] - transp[\"BZN|NL > BZN|GB [MW]\"], label=\"GB\", alpha=0.4)\n",
    "plt.plot(transp[\"BZN|NO2 > BZN|NL [MW]\"] - transp[\"BZN|NL > BZN|NO2 [MW]\"], label=\"NO2\", alpha=0.4)\n",
    "\n",
    "\n",
    "\n",
    "plt.plot(importpower,\n",
    "        label=\"Total\")\n",
    "plt.grid()\n",
    "plt.legend()\n",
    "plt.ylabel(\"MW\")"
   ]
  },
  {
   "cell_type": "code",
   "execution_count": null,
   "metadata": {
    "scrolled": false
   },
   "outputs": [],
   "source": [
    "plt.figure()\n",
    "#plt.plot(nleng[\"gaspower\"], label=\"Gas\")\n",
    "#plt.plot(nleng[\"coalpower\"], label=\"Coal\")\n",
    "#plt.plot(nleng[\"windpower\"], label=\"Wind\")\n",
    "#plt.plot(nleng[\"nukepower\"], label=\"Nuclear\")\n",
    "#plt.plot(nleng[\"wastepower\"], label=\"Waste\")\n",
    "plt.plot(nleng[\"otherpower\"].rolling(\"1d\", center=True).mean(), label=\"Other\")\n",
    "plt.plot(importpower.rolling(\"1d\", center=True).mean(), label=\"Import\")\n",
    "plt.grid()\n",
    "plt.ylabel(\"MW\")\n",
    "plt.title(\"ENTSO-E / TENNET Dutch actual electricity production\")\n",
    "plt.legend()"
   ]
  },
  {
   "cell_type": "code",
   "execution_count": null,
   "metadata": {
    "scrolled": false
   },
   "outputs": [],
   "source": [
    "plt.figure()\n",
    "labels=[\"Nuke\", \"Wind\", \"Coal\", \"Gas\", \"Other\"]\n",
    "plt.stackplot(nleng.index,\n",
    "              nleng[\"nukepower\"],\n",
    "                nleng[\"windpower\"],\n",
    "                nleng[\"coalpower\"],\n",
    "                nleng[\"gaspower\"], nleng[\"otherpower\"],\n",
    "              labels=labels\n",
    "             )\n",
    "\n",
    "plt.plot((nleng[\"nukepower\"]+nleng[\"windpower\"]+nleng[\"coalpower\"]+nleng[\"gaspower\"]+nleng[\"otherpower\"]).rolling(\"1h\", center=True).mean(), label=\"Daily averaged sum\")\n",
    "plt.plot((nleng[\"nukepower\"]+nleng[\"windpower\"]+nleng[\"coalpower\"]+nleng[\"gaspower\"]+nleng[\"otherpower\"]+importpower).rolling(\"1h\", center=True).mean(), label=\"Daily averaged sum imp\")\n",
    "\n",
    "plt.plot(importpower.rolling(\"1h\", center=True).mean())\n",
    "plt.legend()\n",
    "plt.grid()\n",
    "plt.ylabel(\"MW\")\n",
    "plt.title(\"Dutch electricity generation by source\")"
   ]
  },
  {
   "cell_type": "code",
   "execution_count": null,
   "metadata": {},
   "outputs": [],
   "source": []
  },
  {
   "cell_type": "code",
   "execution_count": null,
   "metadata": {},
   "outputs": [],
   "source": [
    "plt.figure()\n",
    "#plt.plot(100.0*(nleng[\"coalpower\"]/(nleng[\"nukepower\"]+nleng[\"windpower\"]+nleng[\"coalpower\"]+nleng[\"gaspower\"]+nleng[\"otherpower\"])).rolling(\"7d\", center=True).mean(), label='Coal')\n",
    "#plt.plot((nleng[\"coalpower\"]).rolling(\"1d\", center=True).mean()/1000.0, label='Coal')\n",
    "#plt.plot((nleng[\"coalpower\"]).rolling(\"7d\", center=True).mean()/1000.0, label='Coal weekly basis')\n",
    "\n",
    "#plt.plot((nleng[\"gaspower\"]).rolling(\"1d\", center=True).mean()/1000.0, label='gas')\n",
    "#plt.plot((nleng[\"gaspower\"]).rolling(\"7d\", center=True).mean()/1000.0, label='gas weekly basis')\n",
    "\n",
    "plt.plot((nleng[\"windpower\"]).rolling(\"1d\", center=True).mean()/1000.0, label='wind')\n",
    "plt.plot((nleng[\"windpower\"]).rolling(\"7d\", center=True).mean()/1000.0, label='wind weekly basis')\n",
    "\n",
    "#plt.ylabel(\"%\")\n",
    "plt.ylabel(\"GW\")\n",
    "plt.ylim(0)\n",
    "plt.title(\"Local Dutch electrical power generation from various sources\")\n",
    "plt.axvline(datetime.date(2022, 2, 24), ls=':', color='red', label=\"Start of invasion\")\n",
    "\n",
    "plt.legend()\n",
    "plt.grid()"
   ]
  },
  {
   "cell_type": "code",
   "execution_count": null,
   "metadata": {
    "scrolled": false
   },
   "outputs": [],
   "source": [
    "#print(importpower.resample(\"15T\").interpolate(\"time\"))\n",
    "knownpower=(nleng[\"nukepower\"]+nleng[\"windpower\"]+nleng[\"coalpower\"]+nleng[\"gaspower\"]+nleng[\"wastepower\"]+nleng[\"otherpower\"])+importpower\n",
    "knownpower=knownpower[\"2022-03-21\":\"2022-03-25\"]\n",
    "print(knownpower.head(10))\n",
    "plt.figure()\n",
    "#\n",
    "kpdf=knownpower.to_frame()\n",
    "kpdf[\"time\"]=pandas.to_datetime(kpdf.index.time.astype(str))\n",
    "hh_mm = DateFormatter('%H:%M')\n",
    "plt.gca().xaxis.set_major_formatter(hh_mm)\n",
    "\n",
    "for dnum in range(21, 26):\n",
    "    daystr=\"2022-03-\"+str(dnum).zfill(2)\n",
    "    day=kpdf.loc[daystr]\n",
    "    plt.plot(day.time, day[0], label=daystr, alpha=0.9)\n",
    "\n",
    "weekavg=kpdf.groupby([\"time\"])[0].mean()\n",
    "#weekavg.plot(label=\"Average\")\n",
    "\n",
    "interp=pandas.DataFrame()\n",
    "interp[\"time\"]=[pandas.to_datetime(\"06:00\"), pandas.to_datetime(\"13:00\"), pandas.to_datetime(\"19:00\")]\n",
    "interp[\"power\"]=[8690, 11500, 10190]\n",
    "interp.set_index(\"time\", inplace=True)\n",
    "interp=interp.resample(\"15T\").interpolate(\"quadratic\")\n",
    "#print(interp)\n",
    "plt.plot(interp[\"power\"], label=\"Stupid model of real power use\")\n",
    "\n",
    "plt.plot(interp[\"power\"]-weekavg, label=\"Imputed solar power production\")\n",
    "print((interp[\"power\"]-weekavg).sum()/4)\n",
    "plt.ylim(0, 14000)\n",
    "plt.grid()\n",
    "plt.legend(loc=2)\n",
    "plt.ylabel(\"MW\")\n",
    "plt.title(\"The Dutch 'duck curve': known electricity generation\\n(coal+gas+nuclear+wind+waste+other+import) for national use\")\n",
    "plt.xlabel(\"UTC\")"
   ]
  },
  {
   "cell_type": "code",
   "execution_count": null,
   "metadata": {},
   "outputs": [],
   "source": []
  }
 ],
 "metadata": {
  "kernelspec": {
   "display_name": "Python 3 (ipykernel)",
   "language": "python",
   "name": "python3"
  },
  "language_info": {
   "codemirror_mode": {
    "name": "ipython",
    "version": 3
   },
   "file_extension": ".py",
   "mimetype": "text/x-python",
   "name": "python",
   "nbconvert_exporter": "python",
   "pygments_lexer": "ipython3",
   "version": "3.9.7"
  }
 },
 "nbformat": 4,
 "nbformat_minor": 4
}
